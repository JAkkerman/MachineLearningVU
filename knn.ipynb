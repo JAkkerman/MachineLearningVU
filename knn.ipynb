{
 "cells": [
  {
   "cell_type": "code",
   "execution_count": 58,
   "metadata": {},
   "outputs": [],
   "source": [
    "import numpy as np\n",
    "import pandas as pd\n",
    "import matplotlib.pyplot as plt\n",
    "import csv\n",
    "merged_features = pd.read_csv('merged_data.csv', header = None)\n",
    "norm_data = pd.read_csv('merged_norm.csv', header = None)"
   ]
  },
  {
   "cell_type": "code",
   "execution_count": 59,
   "metadata": {},
   "outputs": [],
   "source": [
    "# some numbers are stored as strings, this converts them to numbers\n",
    "def str_to_float(L):\n",
    "    return [float(ele) for ele in L]\n",
    "\n",
    "def str_to_int(L):\n",
    "    return [int(ele) for ele in L]"
   ]
  },
  {
   "cell_type": "code",
   "execution_count": 93,
   "metadata": {},
   "outputs": [],
   "source": [
    "from sklearn.model_selection import train_test_split\n",
    "# extract target values\n",
    "genres = np.asarray(norm_data[1:][3])\n",
    "\n",
    "# convert genres to numbers for kNN\n",
    "dict_genres = {'Hip-Hop': 0, 'Pop': 1, 'Folk': 2, 'Experimental': 3, 'Rock':4, 'International':5, 'Electronic':6, 'Instrumental':7}\n",
    "genres = np.asarray([dict_genres[genre] for genre in genres])\n",
    "num_features = len(genres)\n",
    "\n",
    "# extract features and convert them as an array of numbers\n",
    "all_features = np.asarray(norm_data)\n",
    "str_features = all_features[1:, 4:]\n",
    "features = np.asarray([str_to_float(feature) for feature in str_features])\n"
   ]
  },
  {
   "cell_type": "code",
   "execution_count": 94,
   "metadata": {},
   "outputs": [],
   "source": [
    "from sklearn.model_selection import train_test_split\n",
    "# split into training and test\n",
    "feat_training, feat_test, genre_training, genre_test = train_test_split(features, genres, test_size=0.1)\n",
    "\n",
    "# split into training and validation\n",
    "feat_train, feat_val, genre_train, genre_val  = train_test_split(feat_training, genre_training, test_size = 0.5)"
   ]
  },
  {
   "cell_type": "code",
   "execution_count": 96,
   "metadata": {},
   "outputs": [],
   "source": [
    "from sklearn.neighbors import KNeighborsClassifier\n",
    "from sklearn.metrics import accuracy_score\n",
    "\n",
    "def k_neighbours(x_train, x_test, y_train, y_test, k):\n",
    "    knn = KNeighborsClassifier(k)\n",
    "    knn.fit(x_train, y_train)\n",
    "    y_predicted = knn.predict(x_test)\n",
    "    return accuracy_score(y_test, y_predicted)\n",
    "\n",
    "accuracies = [k_neighbours(feat_train, feat_val, genre_train, genre_val, i) for i in range(1, 20)]\n",
    "k = [k for k in range(1, 20)]\n",
    "\n"
   ]
  },
  {
   "cell_type": "code",
   "execution_count": 109,
   "metadata": {},
   "outputs": [
    {
     "data": {
      "image/png": "[encoded data removed]",
      "text/plain": [
       "<Figure size 432x288 with 1 Axes>"
      ]
     },
     "metadata": {
      "needs_background": "light"
     },
     "output_type": "display_data"
    }
   ],
   "source": [
    "plt.scatter(k, accuracies, alpha = 1, s = 3, color = 'black')\n",
    "plt.grid()\n",
    "plt.xticks(k)\n",
    "plt.xlabel('k')\n",
    "plt.ylabel('accuracy')\n",
    "plt.title('accuracies on validation set using kNN')\n",
    "plt.show()"
   ]
  }
 ],
 "metadata": {
  "kernelspec": {
   "display_name": "Python 3",
   "language": "python",
   "name": "python3"
  },
  "language_info": {
   "codemirror_mode": {
    "name": "ipython",
    "version": 3
   },
   "file_extension": ".py",
   "mimetype": "text/x-python",
   "name": "python",
   "nbconvert_exporter": "python",
   "pygments_lexer": "ipython3",
   "version": "3.7.4"
  }
 },
 "nbformat": 4,
 "nbformat_minor": 2
}
